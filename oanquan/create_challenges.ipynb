{
 "cells": [
  {
   "cell_type": "code",
   "execution_count": 1,
   "metadata": {},
   "outputs": [],
   "source": [
    "# List the current work directory\n",
    "import os\n",
    "os.chdir('/home/huyenngn/Documents/oanquan')"
   ]
  },
  {
   "cell_type": "code",
   "execution_count": 2,
   "metadata": {},
   "outputs": [
    {
     "data": {
      "text/plain": [
       "'/home/huyenngn/Documents/oanquan'"
      ]
     },
     "execution_count": 2,
     "metadata": {},
     "output_type": "execute_result"
    }
   ],
   "source": [
    "\n",
    "\n",
    "os.getcwd()"
   ]
  },
  {
   "cell_type": "code",
   "execution_count": 3,
   "metadata": {},
   "outputs": [],
   "source": [
    "from oanquan import api, oanquan\n",
    "from copy import deepcopy\n",
    "import random\n",
    "import csv\n",
    "import json\n",
    "\n",
    "index = 30"
   ]
  },
  {
   "cell_type": "code",
   "execution_count": 4,
   "metadata": {},
   "outputs": [],
   "source": [
    "\n",
    "def create_challenge(ideal_moves: int = 3):\n",
    "    \"\"\"Create a O An Quan challenge.\"\"\"\n",
    "    while True:\n",
    "        while True:\n",
    "            random_state = oanquan.OAnQuan.start_game()\n",
    "            for _ in range(random.randint(5, 10)):\n",
    "                api.make_random_move(random_state)\n",
    "                if random_state.check_end():\n",
    "                    break\n",
    "            if not random_state.check_end():\n",
    "                break\n",
    "        if random_state.get_current_player() == oanquan.Player.COMPUTER:\n",
    "            api.make_random_move(random_state)\n",
    "        if random_state.check_end():\n",
    "            continue\n",
    "        game = deepcopy(random_state)\n",
    "        states = [game.model_dump()]\n",
    "        while not game.check_end():\n",
    "            api.make_ab_move(game)\n",
    "            states.append(game.model_dump())\n",
    "        if game.get_winner() != oanquan.Player.PLAYER.name:\n",
    "            continue\n",
    "        if len(states) < 2:\n",
    "            continue\n",
    "        factor = (len(states) - ideal_moves*2)//2\n",
    "        if factor > 0:\n",
    "            random_state = states[factor*2]\n",
    "        else:\n",
    "            random_state = random_state.model_dump()\n",
    "            ideal_moves = len(states)//2\n",
    "        break\n",
    "        \n",
    "    return {\n",
    "        \"game\": random_state,\n",
    "        \"hint\": api.get_hint(oanquan.OAnQuan(**random_state)),\n",
    "        \"ideal_moves\": ideal_moves,\n",
    "    }"
   ]
  },
  {
   "cell_type": "code",
   "execution_count": 5,
   "metadata": {},
   "outputs": [
    {
     "name": "stdout",
     "output_type": "stream",
     "text": [
      "current index:  30\n"
     ]
    }
   ],
   "source": [
    "print(\"current index: \", index)"
   ]
  },
  {
   "cell_type": "code",
   "execution_count": 6,
   "metadata": {},
   "outputs": [],
   "source": [
    "with open(\"challenges.csv\", \"w\") as f:\n",
    "    writer = csv.DictWriter(f, fieldnames=['game', 'hint', 'ideal_moves', 'id'])\n",
    "    writer.writeheader()\n",
    "    for i in range(10):\n",
    "        challenge = create_challenge(10)\n",
    "        challenge[\"id\"] = index\n",
    "        index += 1\n",
    "        challenge[\"game\"] = json.dumps(challenge[\"game\"])\n",
    "        challenge[\"hint\"] = json.dumps(challenge[\"hint\"])\n",
    "        writer.writerow(challenge)\n"
   ]
  }
 ],
 "metadata": {
  "kernelspec": {
   "display_name": ".venv",
   "language": "python",
   "name": "python3"
  },
  "language_info": {
   "codemirror_mode": {
    "name": "ipython",
    "version": 3
   },
   "file_extension": ".py",
   "mimetype": "text/x-python",
   "name": "python",
   "nbconvert_exporter": "python",
   "pygments_lexer": "ipython3",
   "version": "3.10.12"
  }
 },
 "nbformat": 4,
 "nbformat_minor": 2
}
